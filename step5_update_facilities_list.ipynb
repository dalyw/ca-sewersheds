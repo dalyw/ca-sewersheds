{
 "cells": [
  {
   "cell_type": "code",
   "execution_count": 12,
   "metadata": {},
   "outputs": [],
   "source": [
    "import pandas as pd\n",
    "\n",
    "# original facilities list\n",
    "facilities_list = pd.read_csv('data/facilities_list/NPDES+WDR Facilities List_20240906.csv')\n",
    "facilities_list_with_population_served = pd.read_csv('processed_data/step2/facilities_list_with_population_served.csv')\n",
    "facilities_list_with_num_parameters = pd.read_csv('processed_data/step3/facilities_with_near_exceedance.csv')\n",
    "facilities_list_with_future_limits = pd.read_csv('processed_data/step4/facilities_with_future_limits.csv')\n",
    "\n",
    "# map the population served to the facilities_list\n",
    "facilities_list = facilities_list.merge(facilities_list_with_population_served[['FACILITY ID', 'POPULATION_SERVED', 'POPULATION_SOURCE']], on='FACILITY ID')\n",
    "facilities_list.rename(columns={'POPULATION_SERVED': 'Population Served', 'POPULATION_SOURCE': 'Population Data Source'}, inplace=True)\n",
    "\n",
    "# map the num_parameters to the facilities_list\n",
    "facilities_list = facilities_list.merge(facilities_list_with_num_parameters[['FACILITY ID', 'num_parameters']], on='FACILITY ID')\n",
    "facilities_list.rename(columns={'num_parameters': 'Number of Parameters with Slope and Near Exceedance'}, inplace=True)\n",
    "\n",
    "# map the future limits to the facilities_list\n",
    "facilities_list = facilities_list.merge(facilities_list_with_future_limits[['FACILITY ID', 'Discharges to Impaired Water Bodies and Not Limited']], on='FACILITY ID')\n",
    "\n",
    "# save the facilities_list\n",
    "facilities_list.to_csv('processed_data/facilities_list_updated.csv', index=False)"
   ]
  },
  {
   "cell_type": "code",
   "execution_count": null,
   "metadata": {},
   "outputs": [],
   "source": []
  }
 ],
 "metadata": {
  "kernelspec": {
   "display_name": "oima",
   "language": "python",
   "name": "python3"
  },
  "language_info": {
   "codemirror_mode": {
    "name": "ipython",
    "version": 3
   },
   "file_extension": ".py",
   "mimetype": "text/x-python",
   "name": "python",
   "nbconvert_exporter": "python",
   "pygments_lexer": "ipython3",
   "version": "3.12.5"
  }
 },
 "nbformat": 4,
 "nbformat_minor": 2
}
